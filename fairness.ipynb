{
 "cells": [
  {
   "cell_type": "code",
   "execution_count": 21,
   "metadata": {},
   "outputs": [],
   "source": [
    "import os\n",
    "import logging\n",
    "import csv\n",
    "import pandas as pd\n",
    "import numpy as np\n",
    "import matplotlib.pyplot as plt\n",
    "from random import randint\n",
    "from sklearn import svm\n",
    "from sklearn.model_selection import train_test_split, RepeatedStratifiedKFold, cross_validate, cross_val_predict, StratifiedKFold\n",
    "from sklearn.ensemble import RandomForestClassifier, GradientBoostingClassifier\n",
    "from sklearn.metrics import accuracy_score, f1_score, recall_score, precision_score, classification_report, roc_auc_score, make_scorer, SCORERS, confusion_matrix, roc_curve"
   ]
  },
  {
   "cell_type": "code",
   "execution_count": 22,
   "metadata": {},
   "outputs": [],
   "source": [
    "path = \"C:/Users/s1027177/OneDrive - Syngenta/Documents/BigData/Class8\"\n",
    "os.chdir(path)"
   ]
  },
  {
   "cell_type": "code",
   "execution_count": 23,
   "metadata": {},
   "outputs": [],
   "source": [
    "seed = 2021"
   ]
  },
  {
   "cell_type": "markdown",
   "metadata": {},
   "source": [
    "**0. Read the file**"
   ]
  },
  {
   "cell_type": "code",
   "execution_count": 4,
   "metadata": {
    "scrolled": true
   },
   "outputs": [
    {
     "data": {
      "text/html": [
       "<div>\n",
       "<style scoped>\n",
       "    .dataframe tbody tr th:only-of-type {\n",
       "        vertical-align: middle;\n",
       "    }\n",
       "\n",
       "    .dataframe tbody tr th {\n",
       "        vertical-align: top;\n",
       "    }\n",
       "\n",
       "    .dataframe thead th {\n",
       "        text-align: right;\n",
       "    }\n",
       "</style>\n",
       "<table border=\"1\" class=\"dataframe\">\n",
       "  <thead>\n",
       "    <tr style=\"text-align: right;\">\n",
       "      <th></th>\n",
       "      <th>Treat6m</th>\n",
       "      <th>Naive</th>\n",
       "      <th>EMRA</th>\n",
       "      <th>CM</th>\n",
       "      <th>EM</th>\n",
       "      <th>CD11a</th>\n",
       "      <th>CXCR3</th>\n",
       "      <th>CCR5</th>\n",
       "      <th>CXCR4</th>\n",
       "      <th>CXCR5</th>\n",
       "      <th>...</th>\n",
       "      <th>GzB</th>\n",
       "      <th>GzA</th>\n",
       "      <th>CD127</th>\n",
       "      <th>CD58</th>\n",
       "      <th>GAL-3</th>\n",
       "      <th>CD5</th>\n",
       "      <th>ICAM-1</th>\n",
       "      <th>CD38</th>\n",
       "      <th>CCR4</th>\n",
       "      <th>CTLA-4</th>\n",
       "    </tr>\n",
       "  </thead>\n",
       "  <tbody>\n",
       "    <tr>\n",
       "      <th>0</th>\n",
       "      <td>1</td>\n",
       "      <td>0.0304</td>\n",
       "      <td>0.260</td>\n",
       "      <td>0.0150</td>\n",
       "      <td>0.2580</td>\n",
       "      <td>0.9346</td>\n",
       "      <td>0.775552</td>\n",
       "      <td>0.070052</td>\n",
       "      <td>0.339160</td>\n",
       "      <td>0.546893</td>\n",
       "      <td>...</td>\n",
       "      <td>0.781068</td>\n",
       "      <td>0.901904</td>\n",
       "      <td>0.200926</td>\n",
       "      <td>0.476314</td>\n",
       "      <td>0.818068</td>\n",
       "      <td>0.946954</td>\n",
       "      <td>0.990000</td>\n",
       "      <td>0.262730</td>\n",
       "      <td>0.270001</td>\n",
       "      <td>0.163433</td>\n",
       "    </tr>\n",
       "    <tr>\n",
       "      <th>1</th>\n",
       "      <td>0</td>\n",
       "      <td>0.1560</td>\n",
       "      <td>0.269</td>\n",
       "      <td>0.0387</td>\n",
       "      <td>0.0832</td>\n",
       "      <td>0.7110</td>\n",
       "      <td>0.812970</td>\n",
       "      <td>0.273710</td>\n",
       "      <td>0.375861</td>\n",
       "      <td>0.361873</td>\n",
       "      <td>...</td>\n",
       "      <td>0.425790</td>\n",
       "      <td>0.544353</td>\n",
       "      <td>0.053836</td>\n",
       "      <td>0.580217</td>\n",
       "      <td>0.469866</td>\n",
       "      <td>0.998994</td>\n",
       "      <td>0.997190</td>\n",
       "      <td>0.145660</td>\n",
       "      <td>0.321924</td>\n",
       "      <td>0.041356</td>\n",
       "    </tr>\n",
       "    <tr>\n",
       "      <th>2</th>\n",
       "      <td>1</td>\n",
       "      <td>0.0646</td>\n",
       "      <td>0.211</td>\n",
       "      <td>0.0363</td>\n",
       "      <td>0.2940</td>\n",
       "      <td>0.8970</td>\n",
       "      <td>0.539334</td>\n",
       "      <td>0.070597</td>\n",
       "      <td>0.162852</td>\n",
       "      <td>0.195341</td>\n",
       "      <td>...</td>\n",
       "      <td>0.780501</td>\n",
       "      <td>0.932139</td>\n",
       "      <td>0.321604</td>\n",
       "      <td>0.484588</td>\n",
       "      <td>0.762041</td>\n",
       "      <td>0.993183</td>\n",
       "      <td>0.997586</td>\n",
       "      <td>0.385564</td>\n",
       "      <td>0.249591</td>\n",
       "      <td>0.062653</td>\n",
       "    </tr>\n",
       "    <tr>\n",
       "      <th>3</th>\n",
       "      <td>0</td>\n",
       "      <td>0.0283</td>\n",
       "      <td>0.240</td>\n",
       "      <td>0.1180</td>\n",
       "      <td>0.1300</td>\n",
       "      <td>0.9861</td>\n",
       "      <td>0.857143</td>\n",
       "      <td>0.169069</td>\n",
       "      <td>0.199353</td>\n",
       "      <td>0.307644</td>\n",
       "      <td>...</td>\n",
       "      <td>0.864433</td>\n",
       "      <td>0.987819</td>\n",
       "      <td>0.382722</td>\n",
       "      <td>0.602925</td>\n",
       "      <td>0.645262</td>\n",
       "      <td>0.988252</td>\n",
       "      <td>0.999200</td>\n",
       "      <td>0.170346</td>\n",
       "      <td>0.400480</td>\n",
       "      <td>0.067871</td>\n",
       "    </tr>\n",
       "    <tr>\n",
       "      <th>4</th>\n",
       "      <td>0</td>\n",
       "      <td>0.0653</td>\n",
       "      <td>0.216</td>\n",
       "      <td>0.0949</td>\n",
       "      <td>0.2040</td>\n",
       "      <td>0.9209</td>\n",
       "      <td>0.847934</td>\n",
       "      <td>0.245060</td>\n",
       "      <td>0.182395</td>\n",
       "      <td>0.174046</td>\n",
       "      <td>...</td>\n",
       "      <td>0.609748</td>\n",
       "      <td>0.932809</td>\n",
       "      <td>0.373745</td>\n",
       "      <td>0.340299</td>\n",
       "      <td>0.102806</td>\n",
       "      <td>0.980924</td>\n",
       "      <td>0.996289</td>\n",
       "      <td>0.148594</td>\n",
       "      <td>0.156187</td>\n",
       "      <td>0.000000</td>\n",
       "    </tr>\n",
       "  </tbody>\n",
       "</table>\n",
       "<p>5 rows × 30 columns</p>\n",
       "</div>"
      ],
      "text/plain": [
       "   Treat6m   Naive   EMRA      CM      EM   CD11a     CXCR3      CCR5  \\\n",
       "0        1  0.0304  0.260  0.0150  0.2580  0.9346  0.775552  0.070052   \n",
       "1        0  0.1560  0.269  0.0387  0.0832  0.7110  0.812970  0.273710   \n",
       "2        1  0.0646  0.211  0.0363  0.2940  0.8970  0.539334  0.070597   \n",
       "3        0  0.0283  0.240  0.1180  0.1300  0.9861  0.857143  0.169069   \n",
       "4        0  0.0653  0.216  0.0949  0.2040  0.9209  0.847934  0.245060   \n",
       "\n",
       "      CXCR4     CXCR5  ...       GzB       GzA     CD127      CD58     GAL-3  \\\n",
       "0  0.339160  0.546893  ...  0.781068  0.901904  0.200926  0.476314  0.818068   \n",
       "1  0.375861  0.361873  ...  0.425790  0.544353  0.053836  0.580217  0.469866   \n",
       "2  0.162852  0.195341  ...  0.780501  0.932139  0.321604  0.484588  0.762041   \n",
       "3  0.199353  0.307644  ...  0.864433  0.987819  0.382722  0.602925  0.645262   \n",
       "4  0.182395  0.174046  ...  0.609748  0.932809  0.373745  0.340299  0.102806   \n",
       "\n",
       "        CD5    ICAM-1      CD38      CCR4    CTLA-4  \n",
       "0  0.946954  0.990000  0.262730  0.270001  0.163433  \n",
       "1  0.998994  0.997190  0.145660  0.321924  0.041356  \n",
       "2  0.993183  0.997586  0.385564  0.249591  0.062653  \n",
       "3  0.988252  0.999200  0.170346  0.400480  0.067871  \n",
       "4  0.980924  0.996289  0.148594  0.156187  0.000000  \n",
       "\n",
       "[5 rows x 30 columns]"
      ]
     },
     "execution_count": 4,
     "metadata": {},
     "output_type": "execute_result"
    }
   ],
   "source": [
    "#cll dataset\n",
    "datafile = \"cll_dataset.csv\"\n",
    "cll = pd.read_csv(datafile, sep=\",\")\n",
    "cll.head()\n",
    "# a row is a sample = a patient\n",
    "# column 'Treat6m' recurrence of the disease, 1 if true, 0 if false\n",
    "# other columns are features = rate of several types of cells and molecules in the patient"
   ]
  },
  {
   "cell_type": "code",
   "execution_count": 5,
   "metadata": {},
   "outputs": [
    {
     "data": {
      "text/plain": [
       "0    24\n",
       "1     7\n",
       "Name: Treat6m, dtype: int64"
      ]
     },
     "execution_count": 5,
     "metadata": {},
     "output_type": "execute_result"
    }
   ],
   "source": [
    "pd.value_counts(cll[\"Treat6m\"])"
   ]
  },
  {
   "cell_type": "markdown",
   "metadata": {},
   "source": [
    "**1. Create X the features, Y the predictions**"
   ]
  },
  {
   "cell_type": "code",
   "execution_count": 6,
   "metadata": {},
   "outputs": [],
   "source": [
    "Y = cll[\"Treat6m\"]\n",
    "X = cll.iloc[:,1:]"
   ]
  },
  {
   "cell_type": "markdown",
   "metadata": {},
   "source": [
    "**2.**\n",
    "* Create a function 'fit_rf' that fit random forests on xtrain, ytrain\n",
    "* It should return the random forest score on the xtest, ytest set.\n",
    "* Use sklearn implementation"
   ]
  },
  {
   "cell_type": "code",
   "execution_count": 7,
   "metadata": {},
   "outputs": [],
   "source": [
    "def fit_rf(X, Y, seed, test_size):\n",
    "    \n",
    "    '''\n",
    "      Split the dataset into test and train set. Fit a Random Forest and compute the score.\n",
    "\n",
    "      Parameters \n",
    "      ----------\n",
    "      X: array \n",
    "        Values of all the features/predictors\n",
    "      Y: array \n",
    "        Values of the target variable\n",
    "      test_size: float \n",
    "        Proportion of the dataset to include in the test split\n",
    "      seed: int\n",
    "        Controls the random_state parameter in sklearn RandomForestClassifier \n",
    "\n",
    "      Returns\n",
    "      -------\n",
    "      Accuracy of the prediction\n",
    "      \n",
    "    '''\n",
    "    \n",
    "    x_train, x_test, y_train, y_test = train_test_split(X, Y, test_size=test_size, stratify=Y)\n",
    "    \n",
    "    rf = RandomForestClassifier(random_state=seed)\n",
    "    rf.fit(x_train, y_train)\n",
    "    score = rf.score(x_test,y_test)\n",
    "    \n",
    "    return score"
   ]
  },
  {
   "cell_type": "markdown",
   "metadata": {},
   "source": [
    "**3.**\n",
    "* Create a function 'repeat_experiment' that will re-shuffle the dataset and fit a classifier a hundred times\n",
    "* Store the score at each iteration\n",
    "* Return the average score on the hundred iterations"
   ]
  },
  {
   "cell_type": "code",
   "execution_count": 8,
   "metadata": {},
   "outputs": [],
   "source": [
    "def repeat_experiment(X, Y, seed, test_size=0.2, B=100):\n",
    "    \n",
    "    '''\n",
    "    Re-shuffle the dataset and fit a classifier B times. Get the average score on the B iterations.\n",
    "\n",
    "        Parameters \n",
    "        ----------\n",
    "        X: array \n",
    "            Values of all the features/predictors\n",
    "        Y: array \n",
    "            Values of the target variable\n",
    "        test_size: float \n",
    "            Proportion of the dataset to include in the test split\n",
    "        seed: int\n",
    "            Controls the random_state parameter in sklearn RandomForestClassifier \n",
    "        B: int\n",
    "            Number of iterations\n",
    "\n",
    "        Returns\n",
    "        -------\n",
    "        Average accuracy on the B predictions\n",
    "\n",
    "    '''\n",
    "    scores = []\n",
    "    \n",
    "    while len(scores) < B:\n",
    "        scores.append(fit_rf(X, Y, seed, test_size))\n",
    "        \n",
    "    return sum(scores)/len(scores)"
   ]
  },
  {
   "cell_type": "markdown",
   "metadata": {},
   "source": [
    "**4. Is it good (check score averaged over a hundred experiments)**"
   ]
  },
  {
   "cell_type": "code",
   "execution_count": 9,
   "metadata": {},
   "outputs": [
    {
     "name": "stdout",
     "output_type": "stream",
     "text": [
      "The average score over a hundred experiments is: 0.70\n"
     ]
    }
   ],
   "source": [
    "print(\"The average score over a hundred experiments is: %.2f\" %  repeat_experiment(X, Y, seed=seed))"
   ]
  },
  {
   "cell_type": "markdown",
   "metadata": {},
   "source": [
    "The accuracy is high. It seems quite good at first sight."
   ]
  },
  {
   "cell_type": "markdown",
   "metadata": {},
   "source": [
    "**5. Is it actually good ? Try to predict only vectors with 'Treat6m' = 1. You can compute per-class precision, recall, f-scores...**"
   ]
  },
  {
   "cell_type": "code",
   "execution_count": 10,
   "metadata": {},
   "outputs": [],
   "source": [
    "def one_class_fit(X, Y, seed, target_class=1, test_size=0.2, B=100):\n",
    "    \n",
    "    '''\n",
    "    Re-shuffle the dataset and fit a classifier B times. Get the average score on the B iterations for only one class.\n",
    "\n",
    "        Parameters \n",
    "        ----------\n",
    "        X: array \n",
    "            Values of all the features/predictors\n",
    "        Y: array \n",
    "            Values of the target variable\n",
    "        target_class: int\n",
    "            Category of the binary variable for which to predict\n",
    "        test_size: float \n",
    "            Proportion of the dataset to include in the test split\n",
    "        seed: int\n",
    "            Controls the random_state parameter in sklearn RandomForestClassifier \n",
    "        B: int\n",
    "            Number of iterations\n",
    "\n",
    "        Returns\n",
    "        -------\n",
    "        Average accuracy on the B predictions for the class specified.\n",
    "\n",
    "    '''  \n",
    "    scores = []\n",
    "    \n",
    "    while len(scores) < B:\n",
    "        \n",
    "        x_train, x_test, y_train, y_test = train_test_split(X, Y, test_size=test_size, stratify=Y)\n",
    "    \n",
    "        rf = RandomForestClassifier(random_state=seed)\n",
    "        rf.fit(x_train, y_train)\n",
    "        \n",
    "        x_test_ = x_test[y_test==target_class]\n",
    "        y_test_ = y_test[y_test==target_class]\n",
    "        \n",
    "        if len(x_test_) > 0 :\n",
    "            score = rf.score(x_test_, y_test_) \n",
    "            scores.append(score)\n",
    "\n",
    "    return sum(scores)/len(scores)"
   ]
  },
  {
   "cell_type": "code",
   "execution_count": 11,
   "metadata": {},
   "outputs": [
    {
     "name": "stdout",
     "output_type": "stream",
     "text": [
      "The average score for sick patients is: 0.00\n"
     ]
    }
   ],
   "source": [
    "print(\"The average score for sick patients is: %.2f\" % one_class_fit(X, Y, seed=seed))"
   ]
  },
  {
   "cell_type": "markdown",
   "metadata": {},
   "source": [
    "Filtering on patients having `'Treat6m' = 1`, the prediction is clearly bad. Accuracy drops to 0."
   ]
  },
  {
   "cell_type": "code",
   "execution_count": 12,
   "metadata": {},
   "outputs": [],
   "source": [
    "def scores(X, Y, seed, target_class=1, test_size=0.2, B=100):\n",
    "    \n",
    "    '''\n",
    "    Re-shuffle the dataset and fit a classifier B times. Get the average recall, precision and F-score\n",
    "    on the B iterations for only one class.\n",
    "\n",
    "        Parameters \n",
    "        ----------\n",
    "        X: array \n",
    "            Values of all the features/predictors\n",
    "        Y: array \n",
    "            Values of the target variable\n",
    "        target_class: int\n",
    "            Category of the binary variable for which to predict\n",
    "        test_size: float \n",
    "            Proportion of the dataset to include in the test split\n",
    "        seed: int\n",
    "            Controls the random_state parameter in sklearn RandomForestClassifier \n",
    "        B: int\n",
    "            Number of iterations\n",
    "\n",
    "        Returns\n",
    "        -------\n",
    "        Average recall, precision, and F-score on the B predictions for the class specified.\n",
    "\n",
    "    '''\n",
    "    \n",
    "    accuracy = []\n",
    "    recall = []\n",
    "    precision = []\n",
    "    f1score = []\n",
    "\n",
    "    while len(recall) < B:\n",
    "    \n",
    "        x_train, x_test, y_train, y_test = train_test_split(X, Y, test_size=test_size)\n",
    "\n",
    "        rf = RandomForestClassifier(random_state=seed)\n",
    "        rf.fit(x_train, y_train)\n",
    "\n",
    "        x_test_ = x_test[y_test==target_class]\n",
    "        y_test_ = y_test[y_test==target_class]\n",
    "\n",
    "        if len(x_test_) > 0:\n",
    "\n",
    "            # Get the vectors of y-true and y-predicted\n",
    "            y_true = np.array(y_test_)\n",
    "            y_pred = rf.predict(x_test_)\n",
    "\n",
    "            # Get the classification report \n",
    "            dico = classification_report(y_true, y_pred, output_dict=True, zero_division=0)\n",
    "\n",
    "            # Store the different scores\n",
    "            accuracy.append(dico['accuracy'])\n",
    "            recall.append(dico[str(target_class)]['recall'])\n",
    "            precision.append(dico[str(target_class)]['precision'])\n",
    "            f1score.append(dico[str(target_class)]['f1-score'])\n",
    "\n",
    "    # Get the averages of those scores \n",
    "    sc = {'Accuracy': [sum(accuracy)/len(accuracy)],\n",
    "          'Recall': [sum(recall)/len(recall)],\n",
    "          'Precision': [sum(precision)/len(precision)],\n",
    "          'F-score': [sum(f1score)/len(f1score)]}\n",
    "    scores = pd.DataFrame(sc)\n",
    "\n",
    "    return scores"
   ]
  },
  {
   "cell_type": "code",
   "execution_count": 13,
   "metadata": {},
   "outputs": [
    {
     "name": "stdout",
     "output_type": "stream",
     "text": [
      "-------------\n",
      "Classification metrics for Y=1: \n",
      "   Accuracy  Recall  Precision   F-score\n",
      "0     0.005   0.005       0.01  0.006667\n",
      "-------------\n",
      "Classification metrics for Y=0: \n",
      "   Accuracy   Recall  Precision   F-score\n",
      "0   0.97231  0.97231        1.0  0.984811\n"
     ]
    }
   ],
   "source": [
    "print(\"-------------\")\n",
    "print(\"Classification metrics for Y=1: \")\n",
    "print(scores(X, Y, seed=seed, target_class=1))\n",
    "\n",
    "print(\"-------------\")\n",
    "print(\"Classification metrics for Y=0: \")\n",
    "print(scores(X, Y, seed=seed, target_class=0))"
   ]
  },
  {
   "cell_type": "markdown",
   "metadata": {},
   "source": [
    "**6. Why is it actually pretty bad ?** "
   ]
  },
  {
   "cell_type": "markdown",
   "metadata": {},
   "source": [
    "The dataset used for training is clearly imbalanced in favor of class 0. Then it predicts zero most of the time. The classifier is good when it comes to predict healthy patients, the accuracy reaches 0.98. But it is really bad for detecting sick patients because of the imbalanceness of the dataset. The data is not sufficient for training the model, there are too few patients with `Treat6m = 1`."
   ]
  },
  {
   "cell_type": "markdown",
   "metadata": {},
   "source": [
    "**0. Load the data**"
   ]
  },
  {
   "cell_type": "code",
   "execution_count": 24,
   "metadata": {},
   "outputs": [],
   "source": [
    "# gender dataset\n",
    "genderdatafile = \"gender_biased.csv\"\n",
    "jobs = pd.read_csv(genderdatafile, sep=\",\", index_col=0)\n",
    "# Amazon has recorded some data from its job interviews.\n",
    "# After compiling all the data,\n",
    "# they came with a pair of features called \"skills\" and \"human fit\"\n",
    "# that are supposed to be sufficient to predict whether a candidate is worth interviewing.\n",
    "target = \"selected\"\n",
    "sensitive = \"gender\""
   ]
  },
  {
   "cell_type": "code",
   "execution_count": 25,
   "metadata": {},
   "outputs": [
    {
     "data": {
      "text/html": [
       "<div>\n",
       "<style scoped>\n",
       "    .dataframe tbody tr th:only-of-type {\n",
       "        vertical-align: middle;\n",
       "    }\n",
       "\n",
       "    .dataframe tbody tr th {\n",
       "        vertical-align: top;\n",
       "    }\n",
       "\n",
       "    .dataframe thead th {\n",
       "        text-align: right;\n",
       "    }\n",
       "</style>\n",
       "<table border=\"1\" class=\"dataframe\">\n",
       "  <thead>\n",
       "    <tr style=\"text-align: right;\">\n",
       "      <th></th>\n",
       "      <th>skills</th>\n",
       "      <th>human_fit</th>\n",
       "      <th>gender</th>\n",
       "      <th>selected</th>\n",
       "    </tr>\n",
       "  </thead>\n",
       "  <tbody>\n",
       "    <tr>\n",
       "      <th>0</th>\n",
       "      <td>-6.160503</td>\n",
       "      <td>-3.266742</td>\n",
       "      <td>1</td>\n",
       "      <td>0</td>\n",
       "    </tr>\n",
       "    <tr>\n",
       "      <th>1</th>\n",
       "      <td>1.951289</td>\n",
       "      <td>-4.117315</td>\n",
       "      <td>0</td>\n",
       "      <td>0</td>\n",
       "    </tr>\n",
       "    <tr>\n",
       "      <th>2</th>\n",
       "      <td>2.255315</td>\n",
       "      <td>2.801389</td>\n",
       "      <td>1</td>\n",
       "      <td>1</td>\n",
       "    </tr>\n",
       "    <tr>\n",
       "      <th>3</th>\n",
       "      <td>-7.440054</td>\n",
       "      <td>-3.465629</td>\n",
       "      <td>0</td>\n",
       "      <td>0</td>\n",
       "    </tr>\n",
       "    <tr>\n",
       "      <th>4</th>\n",
       "      <td>0.338412</td>\n",
       "      <td>-0.334471</td>\n",
       "      <td>0</td>\n",
       "      <td>1</td>\n",
       "    </tr>\n",
       "  </tbody>\n",
       "</table>\n",
       "</div>"
      ],
      "text/plain": [
       "     skills  human_fit  gender  selected\n",
       "0 -6.160503  -3.266742       1         0\n",
       "1  1.951289  -4.117315       0         0\n",
       "2  2.255315   2.801389       1         1\n",
       "3 -7.440054  -3.465629       0         0\n",
       "4  0.338412  -0.334471       0         1"
      ]
     },
     "execution_count": 25,
     "metadata": {},
     "output_type": "execute_result"
    }
   ],
   "source": [
    "jobs.gender = jobs.gender.astype(int)\n",
    "jobs.head()"
   ]
  },
  {
   "cell_type": "code",
   "execution_count": 16,
   "metadata": {},
   "outputs": [
    {
     "data": {
      "text/html": [
       "<div>\n",
       "<style scoped>\n",
       "    .dataframe tbody tr th:only-of-type {\n",
       "        vertical-align: middle;\n",
       "    }\n",
       "\n",
       "    .dataframe tbody tr th {\n",
       "        vertical-align: top;\n",
       "    }\n",
       "\n",
       "    .dataframe thead th {\n",
       "        text-align: right;\n",
       "    }\n",
       "</style>\n",
       "<table border=\"1\" class=\"dataframe\">\n",
       "  <thead>\n",
       "    <tr style=\"text-align: right;\">\n",
       "      <th>selected</th>\n",
       "      <th>0</th>\n",
       "      <th>1</th>\n",
       "    </tr>\n",
       "    <tr>\n",
       "      <th>gender</th>\n",
       "      <th></th>\n",
       "      <th></th>\n",
       "    </tr>\n",
       "  </thead>\n",
       "  <tbody>\n",
       "    <tr>\n",
       "      <th>0</th>\n",
       "      <td>719</td>\n",
       "      <td>359</td>\n",
       "    </tr>\n",
       "    <tr>\n",
       "      <th>1</th>\n",
       "      <td>281</td>\n",
       "      <td>641</td>\n",
       "    </tr>\n",
       "  </tbody>\n",
       "</table>\n",
       "</div>"
      ],
      "text/plain": [
       "selected    0    1\n",
       "gender            \n",
       "0         719  359\n",
       "1         281  641"
      ]
     },
     "execution_count": 16,
     "metadata": {},
     "output_type": "execute_result"
    }
   ],
   "source": [
    "pd.crosstab(jobs.gender, jobs.selected)"
   ]
  },
  {
   "cell_type": "markdown",
   "metadata": {},
   "source": [
    "**1. Which feature should not be taken into account to discriminate candidates ?**\n",
    "\n",
    "Gender should not be used to discrimate candidates. We should not consider the effect of the gender on the professional skills as causal."
   ]
  },
  {
   "cell_type": "markdown",
   "metadata": {},
   "source": [
    "**2. Fit classifiers of your choice on the given dataset (output is \"selected\" column) do not use the \"sensitive\" feature!!!** "
   ]
  },
  {
   "cell_type": "code",
   "execution_count": 26,
   "metadata": {},
   "outputs": [],
   "source": [
    "def split_dataset(df, seed, target=target, sensitive=sensitive, test_size=0.3):\n",
    "    \n",
    "    Y = df[target]\n",
    "    X = df.drop(target, axis=1)\n",
    "    \n",
    "    return train_test_split(X, Y, test_size=test_size, random_state=seed)"
   ]
  },
  {
   "cell_type": "code",
   "execution_count": 27,
   "metadata": {},
   "outputs": [],
   "source": [
    "def fit_gb_clf(X, Y, seed, include_sensitive=False, sample_weight=None):\n",
    "\n",
    "    gb = GradientBoostingClassifier(random_state=seed)\n",
    "    if include_sensitive:\n",
    "        gb.fit(X, Y, sample_weight=sample_weight)\n",
    "    else: \n",
    "        gb.fit(X.drop(sensitive, axis=1), Y, sample_weight=sample_weight)\n",
    "    \n",
    "    return gb"
   ]
  },
  {
   "cell_type": "code",
   "execution_count": 28,
   "metadata": {},
   "outputs": [],
   "source": [
    "# Repeating 100 times the experiment\n",
    "def scores_repeated_exper(df, target=target, test_size=0.3, sensitive=sensitive, include_sensitive=False, B=100):\n",
    "    \n",
    "    accuracy = []\n",
    "    recall = []\n",
    "    precision = []\n",
    "    f1score = []\n",
    "\n",
    "    while len(accuracy) < B:\n",
    "        \n",
    "        seed = randint(1,1000)\n",
    "        X_train, X_test, y_train, y_test = split_dataset(df, seed=seed, target=target,\n",
    "                                                         sensitive=sensitive, test_size=test_size)\n",
    "        \n",
    "        gb = fit_gb_clf(X_train, y_train, seed=seed,\n",
    "                        include_sensitive=include_sensitive)\n",
    "        \n",
    "        if include_sensitive:\n",
    "            y_pred = gb.predict(X_test)\n",
    "        else: \n",
    "            y_pred = gb.predict(X_test.drop(sensitive, axis = 1))\n",
    "\n",
    "        # Store the different scores\n",
    "        accuracy.append(accuracy_score(y_test, y_pred))\n",
    "        recall.append(recall_score(y_test, y_pred))\n",
    "        precision.append(precision_score(y_test, y_pred))\n",
    "        f1score.append(f1_score(y_test, y_pred))\n",
    "\n",
    "    # Get the averages of those scores \n",
    "    sc = {'Accuracy': [sum(accuracy)/len(accuracy)],\n",
    "          'Recall': [sum(recall)/len(recall)],\n",
    "          'Precision': [sum(precision)/len(precision)],\n",
    "          'F1-score': [sum(f1score)/len(f1score)]\n",
    "         }\n",
    "    scores = pd.DataFrame(sc)\n",
    "\n",
    "    return scores"
   ]
  },
  {
   "cell_type": "code",
   "execution_count": 20,
   "metadata": {},
   "outputs": [
    {
     "data": {
      "text/plain": [
       "dict_keys(['explained_variance', 'r2', 'max_error', 'neg_median_absolute_error', 'neg_mean_absolute_error', 'neg_mean_absolute_percentage_error', 'neg_mean_squared_error', 'neg_mean_squared_log_error', 'neg_root_mean_squared_error', 'neg_mean_poisson_deviance', 'neg_mean_gamma_deviance', 'accuracy', 'top_k_accuracy', 'roc_auc', 'roc_auc_ovr', 'roc_auc_ovo', 'roc_auc_ovr_weighted', 'roc_auc_ovo_weighted', 'balanced_accuracy', 'average_precision', 'neg_log_loss', 'neg_brier_score', 'adjusted_rand_score', 'rand_score', 'homogeneity_score', 'completeness_score', 'v_measure_score', 'mutual_info_score', 'adjusted_mutual_info_score', 'normalized_mutual_info_score', 'fowlkes_mallows_score', 'precision', 'precision_macro', 'precision_micro', 'precision_samples', 'precision_weighted', 'recall', 'recall_macro', 'recall_micro', 'recall_samples', 'recall_weighted', 'f1', 'f1_macro', 'f1_micro', 'f1_samples', 'f1_weighted', 'jaccard', 'jaccard_macro', 'jaccard_micro', 'jaccard_samples', 'jaccard_weighted'])"
      ]
     },
     "execution_count": 20,
     "metadata": {},
     "output_type": "execute_result"
    }
   ],
   "source": [
    "SCORERS.keys()"
   ]
  },
  {
   "cell_type": "code",
   "execution_count": 29,
   "metadata": {},
   "outputs": [],
   "source": [
    "# Doing cross-validation\n",
    "def fit_cv_gb(X, Y, seed, n_splits=5, n_repeats=3, scoring=['accuracy', 'precision', 'recall', 'f1']):\n",
    "\n",
    "    gb = GradientBoostingClassifier(random_state=seed)\n",
    "    cv = RepeatedStratifiedKFold(n_splits=n_splits, n_repeats=n_repeats, random_state=seed)\n",
    "    n_scores = cross_validate(gb, X, Y, scoring=scoring, cv=cv, error_score='raise')\n",
    "    \n",
    "    sc = {'Accuracy': [np.mean(n_scores['test_accuracy'])],\n",
    "          'Recall': [np.mean(n_scores['test_recall'])],\n",
    "          'Precision': [np.mean(n_scores['test_precision'])],\n",
    "          'F1-score': [np.mean(n_scores['test_f1'])]\n",
    "         }\n",
    "    scores = pd.DataFrame(sc)\n",
    "\n",
    "    return scores"
   ]
  },
  {
   "cell_type": "code",
   "execution_count": 30,
   "metadata": {},
   "outputs": [],
   "source": [
    "# Same with another classifier\n",
    "from sklearn.svm import SVC\n",
    "\n",
    "def fit_cv_svc(X, Y, seed, n_splits=5, n_repeats=3, scoring=['accuracy', 'precision', 'recall', 'f1']):\n",
    "\n",
    "    svc = SVC(random_state=seed)\n",
    "    cv = RepeatedStratifiedKFold(n_splits=n_splits, n_repeats=n_repeats, random_state=seed)\n",
    "    n_scores = cross_validate(svc, X, Y, scoring=scoring, cv=cv, error_score='raise')\n",
    "\n",
    "    sc = {'Accuracy': [np.mean(n_scores['test_accuracy'])],\n",
    "          'Recall': [np.mean(n_scores['test_recall'])],\n",
    "          'Precision': [np.mean(n_scores['test_precision'])],\n",
    "          'F1-score': [np.mean(n_scores['test_f1'])]\n",
    "         }\n",
    "    scores = pd.DataFrame(sc)\n",
    "\n",
    "    return scores"
   ]
  },
  {
   "cell_type": "markdown",
   "metadata": {},
   "source": [
    "**3. Evaluate the classifiers**"
   ]
  },
  {
   "cell_type": "code",
   "execution_count": 23,
   "metadata": {},
   "outputs": [
    {
     "data": {
      "text/html": [
       "<div>\n",
       "<style scoped>\n",
       "    .dataframe tbody tr th:only-of-type {\n",
       "        vertical-align: middle;\n",
       "    }\n",
       "\n",
       "    .dataframe tbody tr th {\n",
       "        vertical-align: top;\n",
       "    }\n",
       "\n",
       "    .dataframe thead th {\n",
       "        text-align: right;\n",
       "    }\n",
       "</style>\n",
       "<table border=\"1\" class=\"dataframe\">\n",
       "  <thead>\n",
       "    <tr style=\"text-align: right;\">\n",
       "      <th></th>\n",
       "      <th>Accuracy</th>\n",
       "      <th>Recall</th>\n",
       "      <th>Precision</th>\n",
       "      <th>F1-score</th>\n",
       "    </tr>\n",
       "  </thead>\n",
       "  <tbody>\n",
       "    <tr>\n",
       "      <th>0</th>\n",
       "      <td>0.862433</td>\n",
       "      <td>0.858161</td>\n",
       "      <td>0.865247</td>\n",
       "      <td>0.861349</td>\n",
       "    </tr>\n",
       "  </tbody>\n",
       "</table>\n",
       "</div>"
      ],
      "text/plain": [
       "   Accuracy    Recall  Precision  F1-score\n",
       "0  0.862433  0.858161   0.865247  0.861349"
      ]
     },
     "execution_count": 23,
     "metadata": {},
     "output_type": "execute_result"
    }
   ],
   "source": [
    "scores_repeated_exper(jobs)"
   ]
  },
  {
   "cell_type": "code",
   "execution_count": 24,
   "metadata": {},
   "outputs": [
    {
     "data": {
      "text/html": [
       "<div>\n",
       "<style scoped>\n",
       "    .dataframe tbody tr th:only-of-type {\n",
       "        vertical-align: middle;\n",
       "    }\n",
       "\n",
       "    .dataframe tbody tr th {\n",
       "        vertical-align: top;\n",
       "    }\n",
       "\n",
       "    .dataframe thead th {\n",
       "        text-align: right;\n",
       "    }\n",
       "</style>\n",
       "<table border=\"1\" class=\"dataframe\">\n",
       "  <thead>\n",
       "    <tr style=\"text-align: right;\">\n",
       "      <th></th>\n",
       "      <th>Accuracy</th>\n",
       "      <th>Recall</th>\n",
       "      <th>Precision</th>\n",
       "      <th>F1-score</th>\n",
       "    </tr>\n",
       "  </thead>\n",
       "  <tbody>\n",
       "    <tr>\n",
       "      <th>0</th>\n",
       "      <td>0.859667</td>\n",
       "      <td>0.85</td>\n",
       "      <td>0.867413</td>\n",
       "      <td>0.858255</td>\n",
       "    </tr>\n",
       "  </tbody>\n",
       "</table>\n",
       "</div>"
      ],
      "text/plain": [
       "   Accuracy  Recall  Precision  F1-score\n",
       "0  0.859667    0.85   0.867413  0.858255"
      ]
     },
     "execution_count": 24,
     "metadata": {},
     "output_type": "execute_result"
    }
   ],
   "source": [
    "Y = jobs[target]\n",
    "X = jobs.drop(labels=[target,sensitive], axis=1)\n",
    "fit_cv_gb(X, Y, seed=seed)"
   ]
  },
  {
   "cell_type": "code",
   "execution_count": 25,
   "metadata": {},
   "outputs": [
    {
     "data": {
      "text/html": [
       "<div>\n",
       "<style scoped>\n",
       "    .dataframe tbody tr th:only-of-type {\n",
       "        vertical-align: middle;\n",
       "    }\n",
       "\n",
       "    .dataframe tbody tr th {\n",
       "        vertical-align: top;\n",
       "    }\n",
       "\n",
       "    .dataframe thead th {\n",
       "        text-align: right;\n",
       "    }\n",
       "</style>\n",
       "<table border=\"1\" class=\"dataframe\">\n",
       "  <thead>\n",
       "    <tr style=\"text-align: right;\">\n",
       "      <th></th>\n",
       "      <th>Accuracy</th>\n",
       "      <th>Recall</th>\n",
       "      <th>Precision</th>\n",
       "      <th>F1-score</th>\n",
       "    </tr>\n",
       "  </thead>\n",
       "  <tbody>\n",
       "    <tr>\n",
       "      <th>0</th>\n",
       "      <td>0.8685</td>\n",
       "      <td>0.86</td>\n",
       "      <td>0.875359</td>\n",
       "      <td>0.867393</td>\n",
       "    </tr>\n",
       "  </tbody>\n",
       "</table>\n",
       "</div>"
      ],
      "text/plain": [
       "   Accuracy  Recall  Precision  F1-score\n",
       "0    0.8685    0.86   0.875359  0.867393"
      ]
     },
     "execution_count": 25,
     "metadata": {},
     "output_type": "execute_result"
    }
   ],
   "source": [
    "fit_cv_svc(X, Y, seed=seed)"
   ]
  },
  {
   "cell_type": "markdown",
   "metadata": {},
   "source": [
    "All scores are above 80%. The SVM classifier performs slightly better than the gradient boosting. We will use this classifier for the next steps."
   ]
  },
  {
   "cell_type": "code",
   "execution_count": 31,
   "metadata": {},
   "outputs": [],
   "source": [
    "def fit_svc_clf(X, y, seed, include_sensitive=False, sample_weight=None):\n",
    "\n",
    "    svc = SVC(random_state=seed)\n",
    "    if include_sensitive:\n",
    "        svc.fit(X, y, sample_weight=sample_weight)\n",
    "    else: \n",
    "        svc.fit(X.drop(sensitive, axis=1), y, sample_weight=sample_weight)\n",
    "    \n",
    "    return svc"
   ]
  },
  {
   "cell_type": "code",
   "execution_count": 32,
   "metadata": {},
   "outputs": [],
   "source": [
    "def compute_metrics(y_test, y_pred):\n",
    "\n",
    "    accuracy = accuracy_score(y_test, y_pred)\n",
    "    recall = recall_score(y_test, y_pred, average='macro')\n",
    "    precision = precision_score(y_test, y_pred, average='macro')\n",
    "    f1score = f1_score(y_test, y_pred, average='macro')\n",
    "    \n",
    "    metrics = {'Accuracy': [accuracy],\n",
    "               'Recall': [recall],\n",
    "               'Precision': [precision],\n",
    "               'F1-score': [f1score]\n",
    "              }\n",
    "    \n",
    "    metrics = pd.DataFrame(metrics)\n",
    "    \n",
    "    return metrics"
   ]
  },
  {
   "cell_type": "markdown",
   "metadata": {},
   "source": [
    "**4. What is the impact of automatic decision on the \"protected group\" (the one with sensitive=1)?**"
   ]
  },
  {
   "cell_type": "markdown",
   "metadata": {},
   "source": [
    "We want to know how well our model treats different individuals wrt their gender. We could use the demographic parity as a measure of fairness. It states that the proportion of each segment of a protected class, e.g. gender, should receive the positive outcome (being selected for an job interview) at equal rates. Mathematically, it can be formalized by:\n",
    "$\\hat{P}(\\hat{Y}=1 | G=1) \\stackrel{?}{=} \\hat{P}(\\hat{Y}=1 | G=0))$. Another interesting measure to consider would be $\\hat{P}(\\hat{Y}=1 | Y=1, G=1) \\stackrel{?}{=} \\hat{P}(\\hat{Y}=1 | Y=1, G=0))$. If the equality holds, it is called equal opportunity."
   ]
  },
  {
   "cell_type": "code",
   "execution_count": 33,
   "metadata": {},
   "outputs": [],
   "source": [
    "def compute_cond_proba(y_test, y_pred, sensitive_col, positive_target=1):\n",
    "    \n",
    "    # Compute the probability of a positive outcome given sensitive being 1\n",
    "    # and the same probability given sensitive being 0\n",
    "    y_given_g1 = y_pred[sensitive_col == 1]\n",
    "    y_given_g0 = y_pred[sensitive_col == 0]\n",
    "    p_g1 = np.mean(y_given_g1 == positive_target)\n",
    "    p_g0 = np.mean(y_given_g0 == positive_target)\n",
    "    \n",
    "    if p_g1 == 0 or p_g0 == 0:\n",
    "        p_percent = 0 \n",
    "    else: \n",
    "        p_percent = np.minimum(p_g1 / p_g0, p_g0 / p_g1)\n",
    "    \n",
    "    # Compute the probability of a true positive outcome given sensitive being 1\n",
    "    # and the same probability given sensitive being 0\n",
    "    y_given_g1_y1 = y_pred[(sensitive_col == 1) & (y_test == positive_target)]\n",
    "    y_given_g0_y1 = y_pred[(sensitive_col == 0) & (y_test == positive_target)]\n",
    "    \n",
    "    if len(y_given_g1_y1) == 0 or len(y_given_g0_y1) == 0:\n",
    "        p_y1_g1 = 0\n",
    "        p_y1_g0 = 0\n",
    "    else:\n",
    "        p_y1_g1 = np.mean(y_given_g1_y1 == positive_target)\n",
    "        p_y1_g0 = np.mean(y_given_g0_y1 == positive_target)\n",
    "\n",
    "    score = np.minimum(p_y1_g1 / p_y1_g0, p_y1_g0 / p_y1_g1)\n",
    "\n",
    "    prob = {'p_g1': [p_g1],\n",
    "            'p_g0': [p_g0],\n",
    "            'p_percent': [p_percent],\n",
    "            'p_y1_g1': [p_y1_g1],\n",
    "            'p_y1_g0': [p_y1_g0],\n",
    "            'eq_opp_score': [score],\n",
    "           }\n",
    "    prob = pd.DataFrame(prob)\n",
    "    \n",
    "    return prob"
   ]
  },
  {
   "cell_type": "code",
   "execution_count": 34,
   "metadata": {},
   "outputs": [],
   "source": [
    "# Repeating 100 times the experiment\n",
    "def evaluate_clf(df, target=target, test_size=0.3,\n",
    "                 sensitive=sensitive, positive_target=1,\n",
    "                 include_sensitive=False, weighted=False, B=100):\n",
    "    \n",
    "    pd_metrics = pd.DataFrame(columns=[\"Accuracy\", \"Recall\", \"Precision\", \"F1-score\"])\n",
    "    pd_prob = pd.DataFrame(columns=[\"p_g1\", \"p_g0\", \"p_percent\", \"p_y1_g1\", \"p_y1_g0\", \"eq_opp_score\"])\n",
    "\n",
    "    while pd_metrics.shape[0] < B:\n",
    "        \n",
    "        seed = randint(1,1000)        \n",
    "        X_train, X_test, y_train, y_test = split_dataset(df, seed=seed, target=target,\n",
    "                                                         sensitive=sensitive, test_size=test_size)\n",
    "        \n",
    "        if weighted:\n",
    "            svc = fit_svc_clf(X_train, y_train, seed=seed,\n",
    "                              include_sensitive=include_sensitive,\n",
    "                              sample_weight=weight_samples(X_train, y_train))           \n",
    "        else:\n",
    "            svc = fit_svc_clf(X_train, y_train, seed=seed,\n",
    "                              include_sensitive=include_sensitive)\n",
    "        \n",
    "        if include_sensitive:\n",
    "            y_pred = svc.predict(X_test)\n",
    "        else: \n",
    "            y_pred = svc.predict(X_test.drop(sensitive, axis = 1))\n",
    "        \n",
    "        metrics = compute_metrics(y_test, y_pred)\n",
    "        pd_metrics = pd.concat([pd_metrics, metrics])\n",
    "        \n",
    "        sensitive_col = X_test[sensitive]\n",
    "        prob = compute_cond_proba(y_test, y_pred, sensitive_col, positive_target)\n",
    "        pd_prob = pd.concat([pd_prob, prob])\n",
    "\n",
    "    print(\"Accuracy:\", pd_metrics[\"Accuracy\"].mean())\n",
    "    print(\"F1-score:\", pd_metrics[\"F1-score\"].mean()) \n",
    "    print(\"Precision score:\", pd_metrics[\"Precision\"].mean())\n",
    "    print(\"Recall score:\", pd_metrics[\"Recall\"].mean())\n",
    "    print(\"--------------------------------------\")\n",
    "    print(\"Demographic parity: \")\n",
    "    print(\"p_yhat1_given_g1:\", pd_prob[\"p_g1\"].mean())\n",
    "    print(\"p_yhat1_given_g0:\", pd_prob[\"p_g0\"].mean())\n",
    "    print(\"p% score:\", pd_prob[\"p_percent\"].mean())\n",
    "    print(\"-------------------\")\n",
    "    print(\"Equal opportunity: \")    \n",
    "    print(\"p_yhat1_given_y1_g1:\", pd_prob[\"p_y1_g1\"].mean())\n",
    "    print(\"p_yhat1_given_y1_g0:\", pd_prob[\"p_y1_g0\"].mean())\n",
    "    print(\"Equal opportunity score:\", pd_prob[\"eq_opp_score\"].mean())"
   ]
  },
  {
   "cell_type": "code",
   "execution_count": 30,
   "metadata": {},
   "outputs": [
    {
     "name": "stdout",
     "output_type": "stream",
     "text": [
      "Accuracy: 0.8709166666666667\n",
      "F1-score: 0.8707868303169789\n",
      "Precision score: 0.8711545368238772\n",
      "Recall score: 0.8709775907264214\n",
      "--------------------------------------\n",
      "Demographic parity: \n",
      "p_yhat1_given_g1: 0.7104913900472112\n",
      "p_yhat1_given_g0: 0.3021051079866779\n",
      "p% score: 0.4256374899355074\n",
      "-------------------\n",
      "Equal opportunity: \n",
      "p_yhat1_given_y1_g1: 0.9199605468956936\n",
      "p_yhat1_given_y1_g0: 0.7553364408299129\n",
      "Equal opportunity score: 0.8213479288366861\n"
     ]
    }
   ],
   "source": [
    "evaluate_clf(jobs)"
   ]
  },
  {
   "cell_type": "markdown",
   "metadata": {},
   "source": [
    "Both measures show that our classifier is biased in favor of the group with gender being 1. The probability of being selected for an interview is much lower in the \"unprotected group\". The gap in probabilities is less important when `target = 1 ` is predicted correctly by the model but still remaining. "
   ]
  },
  {
   "cell_type": "markdown",
   "metadata": {},
   "source": [
    "**5. In sklearn, you can put a weight on samples. Find a weighting strategy to compute a fair classification.**"
   ]
  },
  {
   "cell_type": "markdown",
   "metadata": {},
   "source": [
    "As a pre-processing technique, we can put different weights on samples in each group before classification. The weights for samples with $(G, Y)$ combination will be the product of the marginals over the joint. The idea is to have independence between $G$ and target $Y$."
   ]
  },
  {
   "cell_type": "code",
   "execution_count": 35,
   "metadata": {},
   "outputs": [],
   "source": [
    "def weight_samples(X, Y, sensitive=sensitive):\n",
    "\n",
    "    n = X.shape[0]\n",
    "    \n",
    "    sensitive_col = X[sensitive]\n",
    "    \n",
    "    p_g1 = X[sensitive_col == 1].shape[0] / n\n",
    "    p_g0 = X[sensitive_col == 0].shape[0] / n\n",
    "    p_y1 = Y[Y == 1].shape[0] / n\n",
    "    p_y0 = Y[Y == 0].shape[0] / n\n",
    "\n",
    "    p_g1_y1 = X[(sensitive_col == 1) & (Y == 1)].shape[0] / n\n",
    "    p_g0_y0 = X[(sensitive_col == 0) & (Y == 0)].shape[0] / n\n",
    "    p_g0_y1 = X[(sensitive_col == 0) & (Y == 1)].shape[0] / n\n",
    "    p_g1_y0 = X[(sensitive_col == 1) & (Y == 0)].shape[0] / n\n",
    "    \n",
    "    # Weights:\n",
    "    w1_1 = p_g1 * p_y1 / p_g1_y1\n",
    "    w0_0 = p_g0 * p_y0 / p_g0_y0\n",
    "    w0_1 = p_g0 * p_y1 / p_g0_y1\n",
    "    w1_0 = p_g1 * p_y0 / p_g1_y0\n",
    "\n",
    "    weights = np.where((sensitive_col == 1) & (Y == 1), w1_1,\n",
    "                       np.where((sensitive_col == 0) & (Y == 0), w0_0,\n",
    "                                np.where((sensitive_col == 1) & (Y == 0), w1_0,\n",
    "                                         np.where((sensitive_col == 0) & (Y == 1), w0_1, 0\n",
    "                                                 )\n",
    "                                        )\n",
    "                               )            \n",
    "                      )\n",
    "    \n",
    "    return weights"
   ]
  },
  {
   "cell_type": "markdown",
   "metadata": {},
   "source": [
    "**6. Evaluate your classifier, check the trade-off between fairness and accuracy**"
   ]
  },
  {
   "cell_type": "code",
   "execution_count": 32,
   "metadata": {},
   "outputs": [
    {
     "name": "stdout",
     "output_type": "stream",
     "text": [
      "Accuracy: 0.8604166666666666\n",
      "F1-score: 0.8602815379610772\n",
      "Precision score: 0.8608287314891172\n",
      "Recall score: 0.8604684493659919\n",
      "--------------------------------------\n",
      "Demographic parity: \n",
      "p_yhat1_given_g1: 0.6878591771670756\n",
      "p_yhat1_given_g0: 0.32017583867045524\n",
      "p% score: 0.46584223551790255\n",
      "-------------------\n",
      "Equal opportunity: \n",
      "p_yhat1_given_y1_g1: 0.8979791736388835\n",
      "p_yhat1_given_y1_g0: 0.7665234753365958\n",
      "Equal opportunity score: 0.8538098900902888\n"
     ]
    }
   ],
   "source": [
    "evaluate_clf(jobs, weighted=True)"
   ]
  },
  {
   "cell_type": "markdown",
   "metadata": {},
   "source": [
    "With this pre-processing technique, we gain a little bit in fairness. The probability of being selected for an interview slighly increases for the \"unprotected group\" and reversly for group with gender being 1. The accuracy of the model is not really affected. Surprisingly, using this approach still results in a biased model with a 47% p-score which is still much less than it should be in a fair classifier. We will have to find another strategy to increase the fairness scores while controlling the reduction in accuracy."
   ]
  },
  {
   "cell_type": "markdown",
   "metadata": {},
   "source": [
    "* **7. Another strategy here would be post-processing train the classifier without re-weighting the samples.** \n",
    "* **8. Plot ROC curve for the \"protected group\" (sensitive=1)** \n",
    "* **9. On the same graph, plot the ROC curve for the \"unprotected group\" (sensitive=0)** "
   ]
  },
  {
   "cell_type": "markdown",
   "metadata": {},
   "source": [
    "The idea of post-processing algorithms is to derive a transformation of an existing classifier's prediction to apply specified impartiality constraints on the sensitive characteristic. Their simplicity and flexibility, as they do not need to reform the model are one of their advantages. We will perform the `ThresholdOptimizer` post-processing algorithm from the open-source python library `fairlearn`. It will help us to derive a monotonic transformation of the prediction of the previous SVC classifier applying a constraint on the demographic parity."
   ]
  },
  {
   "cell_type": "code",
   "execution_count": 36,
   "metadata": {},
   "outputs": [],
   "source": [
    "import sklearn.metrics as skm\n",
    "import fairlearn\n",
    "from fairlearn.postprocessing import ThresholdOptimizer\n",
    "from fairlearn.metrics import MetricFrame\n",
    "from fairlearn.metrics import mean_prediction"
   ]
  },
  {
   "cell_type": "code",
   "execution_count": 87,
   "metadata": {},
   "outputs": [],
   "source": [
    "def prep_roc_curve(estimator, X_test, A_test, y_test, base_fpr, sensitive=True):\n",
    "    \n",
    "    if sensitive:\n",
    "        index = A_test[A_test == 0].index\n",
    "        xtest = X_test.loc[index, :]\n",
    "        ytest = y_test.loc[index]\n",
    "    \n",
    "    else:\n",
    "        index = A_test[A_test == 1].index\n",
    "        xtest = X_test.loc[index, :]\n",
    "        ytest = y_test.loc[index]\n",
    "\n",
    "    ypred = estimator.predict(xtest, sensitive_features=A_test.loc[index])\n",
    "    # calculate roc curves\n",
    "    fpr, tpr, thresholds = roc_curve(ytest, ypred)\n",
    "    tpr = np.interp(base_fpr, fpr, tpr)\n",
    "    tpr[0] = 0.0\n",
    "    \n",
    "    return tpr"
   ]
  },
  {
   "cell_type": "code",
   "execution_count": 94,
   "metadata": {},
   "outputs": [],
   "source": [
    "# Repeating 100 times the experiment\n",
    "def evaluate_fairer_clf(df, constraint, target=target, test_size=0.3,\n",
    "                        sensitive=sensitive, positive_target=1,\n",
    "                        include_sensitive=False, B=100):\n",
    "    \n",
    "    X = df.drop(labels=[target,sensitive], axis=1)\n",
    "    y = df[target]\n",
    "    A = df[sensitive]\n",
    "    \n",
    "    pd_metrics = pd.DataFrame(columns=[\"Accuracy\", \"Recall\", \"Precision\", \"F1-score\"])\n",
    "    pd_prob = pd.DataFrame(columns=[\"p_g1\", \"p_g0\", \"p_percent\", \"p_y1_g1\", \"p_y1_g0\", \"eq_opp_score\"])\n",
    "    \n",
    "    tprs_unprotected = []\n",
    "    tprs_protected = []\n",
    "    base_fpr = np.linspace(0, 1, 101)\n",
    "    plt.figure(figsize=(5, 5))\n",
    "\n",
    "    while pd_metrics.shape[0] < B:\n",
    "\n",
    "        # Split into test and train, making sure we have sequential indices in the results\n",
    "        seed = randint(1,1000)    \n",
    "        X_train, X_test, y_train, y_test, A_train, A_test = train_test_split(X, y, A,\n",
    "                                                                             test_size=test_size,\n",
    "                                                                             random_state=seed)\n",
    "\n",
    "        X_train = X_train.reset_index(drop=True)\n",
    "        y_train = y_train.reset_index(drop=True)\n",
    "        A_train = A_train.reset_index(drop=True)\n",
    "        X_test = X_test.reset_index(drop=True)\n",
    "        y_test = y_test.reset_index(drop=True)\n",
    "        A_test = A_test.reset_index(drop=True)\n",
    "\n",
    "        y0 = y_train[y_train==positive_target-1]\n",
    "        y1 = y_train[y_train==positive_target]\n",
    "        \n",
    "        if len(y1) > len(y0):\n",
    "            balanced_index_pass0 = y_train[y_train==positive_target-1].index \n",
    "            balanced_index_pass1 = y_train[y_train==positive_target].sample(n=balanced_index_pass0.size,\n",
    "                                                                            random_state=seed).index\n",
    "            balanced_index = balanced_index_pass0.union(balanced_index_pass1)\n",
    "        else:\n",
    "            balanced_index_pass1 = y_train[y_train==positive_target].index \n",
    "            balanced_index_pass0 = y_train[y_train==positive_target-1].sample(n=balanced_index_pass1.size,\n",
    "                                                                              random_state=seed).index\n",
    "            balanced_index = balanced_index_pass1.union(balanced_index_pass0)\n",
    "        \n",
    "        unmitigated_predictor = SVC(random_state=seed)\n",
    "        unmitigated_predictor.fit(X_train, y_train)\n",
    "\n",
    "        pp_estimator = ThresholdOptimizer(estimator=unmitigated_predictor,\n",
    "                                          constraints=constraint,\n",
    "                                          prefit=True)\n",
    "        \n",
    "        pp_estimator.fit(X_train.iloc[balanced_index,:], y_train.iloc[balanced_index],\n",
    "                         sensitive_features=A_train.iloc[balanced_index])\n",
    "        \n",
    "        y_pred = pp_estimator.predict(X_test, sensitive_features=A_test)\n",
    "    \n",
    "        metrics = compute_metrics(y_test, y_pred)\n",
    "        pd_metrics = pd.concat([pd_metrics, metrics])\n",
    "        \n",
    "        prob = compute_cond_proba(y_test, y_pred, A_test, positive_target)\n",
    "        pd_prob = pd.concat([pd_prob, prob])\n",
    "        \n",
    "        tprs_unprotected.append(prep_roc_curve(pp_estimator, X_test, A_test, y_test, base_fpr, sensitive=True))\n",
    "        tprs_protected.append(prep_roc_curve(pp_estimator, X_test, A_test, y_test, base_fpr, sensitive=False))\n",
    "        \n",
    "    print(\"Accuracy:\", pd_metrics[\"Accuracy\"].mean())\n",
    "    print(\"F1-score:\", pd_metrics[\"F1-score\"].mean()) \n",
    "    print(\"Precision score:\", pd_metrics[\"Precision\"].mean())\n",
    "    print(\"Recall score:\", pd_metrics[\"Recall\"].mean())\n",
    "    print(\"--------------------------------------\")\n",
    "    print(\"Demographic parity: \")\n",
    "    print(\"p_yhat1_given_g1:\", pd_prob[\"p_g1\"].mean())\n",
    "    print(\"p_yhat1_given_g0:\", pd_prob[\"p_g0\"].mean())\n",
    "    print(\"p% score:\", pd_prob[\"p_percent\"].mean())\n",
    "    print(\"-------------------\")\n",
    "    print(\"Equal opportunity: \")    \n",
    "    print(\"p_yhat1_given_y1_g1:\", pd_prob[\"p_y1_g1\"].mean())\n",
    "    print(\"p_yhat1_given_y1_g0:\", pd_prob[\"p_y1_g0\"].mean())\n",
    "    print(\"Equal opportunity score:\", pd_prob[\"eq_opp_score\"].mean())\n",
    "\n",
    "#     CI    \n",
    "#     std = tprs.std(axis=0)\n",
    "#     tprs_upper = np.minimum(mean_tprs + std, 1)\n",
    "#     tprs_lower = mean_tprs - std\n",
    "    tprs_unprotected = np.array(tprs_unprotected)\n",
    "    tprs_protected= np.array(tprs_protected)\n",
    "    mean_tprs_unprotected  = tprs_unprotected.mean(axis=0)\n",
    "    mean_tprs_protected  = tprs_protected.mean(axis=0)\n",
    "\n",
    "    plt.plot(base_fpr, mean_tprs_unprotected, label='gender=0', color='b')\n",
    "    plt.plot(base_fpr, mean_tprs_protected, label='gender=1', color='g')\n",
    "#    plt.fill_between(base_fpr, tprs_lower, tprs_upper, color='grey', alpha=0.3)\n",
    "    plt.plot([0, 1], [0, 1],'r--')\n",
    "    plt.xlim([-0.01, 1.01])\n",
    "    plt.ylim([-0.01, 1.01])\n",
    "    plt.ylabel('True Positive Rate')\n",
    "    plt.xlabel('False Positive Rate')\n",
    "    plt.axes().set_aspect('equal', 'datalim')\n",
    "    plt.legend()\n",
    "    plt.show()\n"
   ]
  },
  {
   "cell_type": "code",
   "execution_count": 95,
   "metadata": {},
   "outputs": [
    {
     "name": "stdout",
     "output_type": "stream",
     "text": [
      "Accuracy: 0.7171333333333334\n",
      "F1-score: 0.7059367256074836\n",
      "Precision score: 0.7585280584768108\n",
      "Recall score: 0.7184620373529788\n",
      "--------------------------------------\n",
      "Demographic parity: \n",
      "p_yhat1_given_g1: 0.30108942183870024\n",
      "p_yhat1_given_g0: 0.3048282723272057\n",
      "p% score: 0.8959402829349912\n",
      "-------------------\n",
      "Equal opportunity: \n",
      "p_yhat1_given_y1_g1: 0.390102495935766\n",
      "p_yhat1_given_y1_g0: 0.7534130784767687\n",
      "Equal opportunity score: 0.5193536675196418\n"
     ]
    },
    {
     "name": "stderr",
     "output_type": "stream",
     "text": [
      "<ipython-input-94-330271987f23>:100: MatplotlibDeprecationWarning: Adding an axes using the same arguments as a previous axes currently reuses the earlier instance.  In a future version, a new instance will always be created and returned.  Meanwhile, this warning can be suppressed, and the future behavior ensured, by passing a unique label to each axes instance.\n",
      "  plt.axes().set_aspect('equal', 'datalim')\n"
     ]
    },
    {
     "data": {
      "image/png": "[encoded data removed]",
      "text/plain": [
       "<Figure size 360x360 with 1 Axes>"
      ]
     },
     "metadata": {
      "needs_background": "light"
     },
     "output_type": "display_data"
    }
   ],
   "source": [
    "evaluate_fairer_clf(jobs, constraint=\"demographic_parity\")"
   ]
  },
  {
   "cell_type": "markdown",
   "metadata": {},
   "source": [
    "With this post-processing technique, the demographic parity between genders hold. We are loosing in accuracy but we could be happy to see that, with perfect equality between $\\hat{P}(\\hat{Y}=1 | G=1))$ and $\\hat{P}(\\hat{Y}=1 | G=0))$, the accuracy seems still pretty good. However, we still loose about 16% in accuracy and equal opportunity has been deteriorated. The model seems to perform quite poorly.\n",
    "\n",
    "Surprisingly, after performing the post-processing algorithm, $\\hat{P}(\\hat{Y}=1 | Y=1, G=1)) < \\hat{P}(\\hat{Y}=1 | Y=1, G=0))$ contrary to the results of `evaluate_clf`. The constraint is certainly too strong. We repeat the post-processing strategy constraining on equal opportunity which generally matters more."
   ]
  },
  {
   "cell_type": "code",
   "execution_count": 96,
   "metadata": {},
   "outputs": [
    {
     "name": "stdout",
     "output_type": "stream",
     "text": [
      "Accuracy: 0.7922166666666669\n",
      "F1-score: 0.792071085228283\n",
      "Precision score: 0.7926382007752427\n",
      "Recall score: 0.7925339444636111\n",
      "--------------------------------------\n",
      "Demographic parity: \n",
      "p_yhat1_given_g1: 0.6093264815412666\n",
      "p_yhat1_given_g0: 0.3984934469014203\n",
      "p% score: 0.6559188370783725\n",
      "-------------------\n",
      "Equal opportunity: \n",
      "p_yhat1_given_y1_g1: 0.7905763539801091\n",
      "p_yhat1_given_y1_g0: 0.7807953563306076\n",
      "Equal opportunity score: 0.947187983688345\n"
     ]
    },
    {
     "name": "stderr",
     "output_type": "stream",
     "text": [
      "<ipython-input-94-330271987f23>:100: MatplotlibDeprecationWarning: Adding an axes using the same arguments as a previous axes currently reuses the earlier instance.  In a future version, a new instance will always be created and returned.  Meanwhile, this warning can be suppressed, and the future behavior ensured, by passing a unique label to each axes instance.\n",
      "  plt.axes().set_aspect('equal', 'datalim')\n"
     ]
    },
    {
     "data": {
      "image/png": "[encoded data removed]",
      "text/plain": [
       "<Figure size 360x360 with 1 Axes>"
      ]
     },
     "metadata": {
      "needs_background": "light"
     },
     "output_type": "display_data"
    }
   ],
   "source": [
    "evaluate_fairer_clf(jobs, constraint=\"equalized_odds\")"
   ]
  },
  {
   "cell_type": "markdown",
   "metadata": {},
   "source": [
    "These results are more satisfactory as the reduction in accuracy is clearly less significant (about 6%). Equal odds hold and demographic parity is slightly positively affected, reducing the gap between genders compared to the results of `evaluate_clf`. The average ROC curves look much better."
   ]
  },
  {
   "cell_type": "markdown",
   "metadata": {},
   "source": [
    "**10. Find a fair thresholding rule on the prediction of your classifier**"
   ]
  },
  {
   "cell_type": "markdown",
   "metadata": {},
   "source": [
    "We plotted the average ROC curves for both groups and this is not easy to find a fair thresholding rule. Equality between both true positive rates and false positive rates (equalized odds) would be too strict in the first case where we are already constraining on demographic parity. But we could take a threshold such that the true positive rates of the two groups are equal.\n",
    "In the second case, as we contrained our post-processing on equalized odds, the two curves coincide already. "
   ]
  }
 ],
 "metadata": {
  "kernelspec": {
   "display_name": "Python 3",
   "language": "python",
   "name": "python3"
  },
  "language_info": {
   "codemirror_mode": {
    "name": "ipython",
    "version": 3
   },
   "file_extension": ".py",
   "mimetype": "text/x-python",
   "name": "python",
   "nbconvert_exporter": "python",
   "pygments_lexer": "ipython3",
   "version": "3.8.3"
  }
 },
 "nbformat": 4,
 "nbformat_minor": 2
}
